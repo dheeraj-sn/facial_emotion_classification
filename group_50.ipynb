{
 "cells": [
  {
   "cell_type": "markdown",
   "id": "e47d9dc2",
   "metadata": {},
   "source": [
    "# FACIAL EMOTION CLASSIFICATION"
   ]
  },
  {
   "cell_type": "markdown",
   "id": "30f962c5",
   "metadata": {},
   "source": [
    "## Step 1: Problem Identification and Description\n"
   ]
  },
  {
   "cell_type": "code",
   "execution_count": null,
   "id": "c94d2cf8",
   "metadata": {},
   "outputs": [],
   "source": []
  },
  {
   "cell_type": "code",
   "execution_count": null,
   "id": "2fc69b36",
   "metadata": {},
   "outputs": [],
   "source": []
  },
  {
   "cell_type": "code",
   "execution_count": null,
   "id": "2806b0be",
   "metadata": {},
   "outputs": [],
   "source": []
  },
  {
   "cell_type": "markdown",
   "id": "088fc8f3",
   "metadata": {},
   "source": [
    "## Step - 2 Data Collection"
   ]
  },
  {
   "cell_type": "markdown",
   "id": "016c0ef1",
   "metadata": {},
   "source": [
    "## For scraping images to create our dataset we have used 2 sources -\n",
    "1. Google Image search\n",
    "2. Instagram"
   ]
  },
  {
   "cell_type": "markdown",
   "id": "e1759121",
   "metadata": {},
   "source": [
    "Google image seach was built using chromedriver and follows these steps -\n",
    "1. Open chrome windows\n",
    "2. Search google images with the provided query string\n",
    "3. Click on each image in the results\n",
    "4. Get the link for the the images\n",
    "5. After all links are collected for a query, the images are downloaded and saved"
   ]
  },
  {
   "cell_type": "markdown",
   "id": "ac69030c",
   "metadata": {},
   "source": [
    "Instagram hastag approach followed these steps -\n",
    "1.\n",
    "2.\n",
    "3."
   ]
  },
  {
   "cell_type": "markdown",
   "id": "fb5f9b47",
   "metadata": {},
   "source": [
    "#### Scraping data from google images"
   ]
  },
  {
   "cell_type": "code",
   "execution_count": 1,
   "id": "5057434f",
   "metadata": {},
   "outputs": [],
   "source": [
    "import selenium\n",
    "from selenium import webdriver\n",
    "import time\n",
    "import requests\n",
    "import os\n",
    "from PIL import Image\n",
    "import io\n",
    "import hashlib"
   ]
  },
  {
   "cell_type": "code",
   "execution_count": 29,
   "id": "7461d2b4",
   "metadata": {},
   "outputs": [],
   "source": [
    "def fetch_image_urls(query:str, max_links_to_fetch:int, wd:webdriver, sleep_between_interactions:int=1):\n",
    "    def scroll_to_end(wd):\n",
    "        wd.execute_script(\"window.scrollTo(0, document.body.scrollHeight);\")\n",
    "        time.sleep(sleep_between_interactions)    \n",
    "    \n",
    "    # build the google query\n",
    "    search_url = \"https://www.google.com/search?safe=off&site=&tbm=isch&source=hp&q={q}&oq={q}&gs_l=img\"\n",
    "\n",
    "    # load the page\n",
    "    wd.get(search_url.format(q=query))\n",
    "\n",
    "    image_urls = set()\n",
    "    image_count = 0\n",
    "    results_start = 0\n",
    "    while image_count < max_links_to_fetch:\n",
    "        scroll_to_end(wd)\n",
    "\n",
    "        # get all image thumbnail results\n",
    "        thumbnail_results = wd.find_elements_by_css_selector(\"img.Q4LuWd\")\n",
    "        number_results = len(thumbnail_results)\n",
    "             \n",
    "        for img in thumbnail_results[results_start:number_results]:\n",
    "            # try to click every thumbnail such that we can get the real image behind it\n",
    "            try:\n",
    "                img.click()\n",
    "                time.sleep(sleep_between_interactions)\n",
    "            except Exception:\n",
    "                continue\n",
    "\n",
    "            # extract image urls    \n",
    "            actual_images = wd.find_elements_by_css_selector('img.n3VNCb')\n",
    "            for actual_image in actual_images:\n",
    "                if actual_image.get_attribute('src') and 'http' in actual_image.get_attribute('src'):\n",
    "                    image_urls.add(actual_image.get_attribute('src'))\n",
    "\n",
    "            image_count = len(image_urls)\n",
    "\n",
    "            if len(image_urls) >= max_links_to_fetch:\n",
    "                break\n",
    "        else:\n",
    "            time.sleep(30)\n",
    "            return\n",
    "            load_more_button = wd.find_element_by_css_selector(\".mye4qd\")\n",
    "            if load_more_button:\n",
    "                wd.execute_script(\"document.querySelector('.mye4qd').click();\")\n",
    "\n",
    "        # move the result startpoint further down\n",
    "        results_start = len(thumbnail_results)\n",
    "\n",
    "    return image_urls"
   ]
  },
  {
   "cell_type": "code",
   "execution_count": 30,
   "id": "7ef40323",
   "metadata": {},
   "outputs": [],
   "source": [
    "def download_image(folder_path:str,file_name:str,url:str):\n",
    "    try:\n",
    "        image_content = requests.get(url).content\n",
    "\n",
    "    except Exception as e:\n",
    "        pass\n",
    "\n",
    "    try:\n",
    "        image_file = io.BytesIO(image_content)\n",
    "        image = Image.open(image_file).convert('RGB')\n",
    "        folder_path = os.path.join(folder_path,file_name)\n",
    "        if os.path.exists(folder_path):\n",
    "            file_path = os.path.join(folder_path,hashlib.sha1(image_content).hexdigest()[:10] + '.jpg')\n",
    "        else:\n",
    "            os.mkdir(folder_path)\n",
    "            file_path = os.path.join(folder_path,hashlib.sha1(image_content).hexdigest()[:10] + '.jpg')\n",
    "        with open(file_path, 'wb') as f:\n",
    "            image.save(f, \"JPEG\", quality=85)\n",
    "    except Exception as e:\n",
    "        pass"
   ]
  },
  {
   "cell_type": "code",
   "execution_count": 31,
   "id": "3682ba25",
   "metadata": {},
   "outputs": [],
   "source": [
    "# Setting the path for chrome driver\n",
    "CHROME_DRIVER_PATH = os.path.abspath('./') + \"\\chromedriver.exe\""
   ]
  },
  {
   "cell_type": "markdown",
   "id": "9b29a398",
   "metadata": {},
   "source": [
    "#### Downloading images for category : \"happy\""
   ]
  },
  {
   "cell_type": "code",
   "execution_count": 37,
   "id": "7e40c087",
   "metadata": {},
   "outputs": [],
   "source": [
    "%%capture\n",
    "queries = [\"happy human face\", \"happy black man face\", \"happy white man face\", \"happy black woman face\", \"happy white woman face\", \"happy asian face\", \"happy indian man face\", \"happy indian woman face\"]\n",
    "for query in queries:\n",
    "    wd = webdriver.Chrome(executable_path=CHROME_DRIVER_PATH)\n",
    "    wd.get('https://google.com')\n",
    "    search_box = wd.find_element_by_css_selector('input.gLFyf')\n",
    "    search_box.send_keys(query)\n",
    "    links = fetch_image_urls(query,100,wd)\n",
    "    images_path = os.path.abspath('./') + '/images'\n",
    "    if not os.path.exists(images_path):\n",
    "        os.mkdir(images_path)\n",
    "    for i in links:\n",
    "        persist_image(images_path,query,i)\n",
    "    wd.quit()"
   ]
  },
  {
   "cell_type": "markdown",
   "id": "74c781ef",
   "metadata": {},
   "source": [
    "#### Downloading images for category : \"sad\""
   ]
  },
  {
   "cell_type": "code",
   "execution_count": 35,
   "id": "f3ea4c37",
   "metadata": {},
   "outputs": [],
   "source": [
    "%%capture\n",
    "queries = [\"sad human face\", \"sad black man face\", \"sad white man face\", \"sad black woman face\", \"sad white woman face\", \"sad asian face\", \"sad indian man face\", \"sad indian woman face\"]\n",
    "for query in queries:\n",
    "    wd = webdriver.Chrome(executable_path=CHROME_DRIVER_PATH)\n",
    "    wd.get('https://google.com')\n",
    "    search_box = wd.find_element_by_css_selector('input.gLFyf')\n",
    "    search_box.send_keys(query)\n",
    "    links = fetch_image_urls(query,100,wd)\n",
    "    images_path = os.path.abspath('./') + '/images'\n",
    "    if not os.path.exists(images_path):\n",
    "        os.mkdir(images_path)\n",
    "    for i in links:\n",
    "        persist_image(images_path,query,i)\n",
    "    wd.quit()"
   ]
  },
  {
   "cell_type": "markdown",
   "id": "a14ef5a1",
   "metadata": {},
   "source": [
    "#### Downloading images for category : \"angry\""
   ]
  },
  {
   "cell_type": "code",
   "execution_count": 23,
   "id": "a618c93b",
   "metadata": {},
   "outputs": [],
   "source": [
    "%%capture\n",
    "queries = [\"angry human face\", \"angry black man face\", \"angry white man face\", \"angry black woman face\", \"angry white woman face\", \"angry asian face\", \"angry indian man face\", \"angry indian woman face\"]\n",
    "for query in queries:\n",
    "    wd = webdriver.Chrome(executable_path=CHROME_DRIVER_PATH)\n",
    "    wd.get('https://google.com')\n",
    "    search_box = wd.find_element_by_css_selector('input.gLFyf')\n",
    "    search_box.send_keys(query)\n",
    "    links = fetch_image_urls(query,100,wd)\n",
    "    images_path = os.path.abspath('./') + '/images'\n",
    "    for i in links:\n",
    "        persist_image(images_path,query,i)\n",
    "    wd.quit()"
   ]
  },
  {
   "cell_type": "markdown",
   "id": "4c710fe3",
   "metadata": {},
   "source": [
    "#### Downloading images for category : \"disgusted\""
   ]
  },
  {
   "cell_type": "code",
   "execution_count": 24,
   "id": "2621c510",
   "metadata": {},
   "outputs": [],
   "source": [
    "%%capture\n",
    "queries = [\"disgusted human face\", \"disgusted black man face\", \"disgusted white man face\", \"disgusted black woman face\", \"disgusted white woman face\", \"disgusted asian face\", \"disgusted indian man face\", \"disgusted indian woman face\"]\n",
    "for query in queries:\n",
    "    wd = webdriver.Chrome(executable_path=CHROME_DRIVER_PATH)\n",
    "    wd.get('https://google.com')\n",
    "    search_box = wd.find_element_by_css_selector('input.gLFyf')\n",
    "    search_box.send_keys(query)\n",
    "    links = fetch_image_urls(query,100,wd)\n",
    "    images_path = os.path.abspath('./') + '/images'\n",
    "    if not os.path.exists(images_path):\n",
    "        os.mkdir(images_path)\n",
    "    for i in links:\n",
    "        persist_image(images_path,query,i)\n",
    "    wd.quit()"
   ]
  },
  {
   "cell_type": "markdown",
   "id": "cfba0770",
   "metadata": {},
   "source": [
    "#### Downloading images for category : \"surprised\""
   ]
  },
  {
   "cell_type": "code",
   "execution_count": 25,
   "id": "4abb5f0f",
   "metadata": {},
   "outputs": [],
   "source": [
    "%%capture\n",
    "queries = [\"surprised black man face\", \"surprised white man face\", \"surprised black woman face\", \"surprised white woman face\", \"surprised indian man face\", \"surprised indian woman face\", \"surprised human face\",\"surprised asian face\"]\n",
    "for query in queries:\n",
    "    wd = webdriver.Chrome(executable_path=CHROME_DRIVER_PATH)\n",
    "    wd.get('https://google.com')\n",
    "    search_box = wd.find_element_by_css_selector('input.gLFyf')\n",
    "    search_box.send_keys(query)\n",
    "    links = fetch_image_urls(query,100,wd)\n",
    "    images_path = os.path.abspath('./') + '/images'\n",
    "    if not os.path.exists(images_path):\n",
    "        os.mkdir(images_path)\n",
    "    for i in links:\n",
    "        persist_image(images_path,query,i)\n",
    "    wd.quit()"
   ]
  },
  {
   "cell_type": "markdown",
   "id": "b8218d4a",
   "metadata": {},
   "source": [
    "#### Scraping data from instagram"
   ]
  },
  {
   "cell_type": "code",
   "execution_count": null,
   "id": "38e20a06",
   "metadata": {},
   "outputs": [],
   "source": []
  },
  {
   "cell_type": "code",
   "execution_count": null,
   "id": "677475b7",
   "metadata": {},
   "outputs": [],
   "source": []
  },
  {
   "cell_type": "code",
   "execution_count": null,
   "id": "5c198248",
   "metadata": {},
   "outputs": [],
   "source": []
  },
  {
   "cell_type": "code",
   "execution_count": null,
   "id": "9e0491c8",
   "metadata": {},
   "outputs": [],
   "source": []
  },
  {
   "cell_type": "code",
   "execution_count": null,
   "id": "95388cdf",
   "metadata": {},
   "outputs": [],
   "source": []
  },
  {
   "cell_type": "code",
   "execution_count": null,
   "id": "9fc0ea52",
   "metadata": {},
   "outputs": [],
   "source": []
  },
  {
   "cell_type": "markdown",
   "id": "155d9ebf",
   "metadata": {},
   "source": [
    "## Step 3: Data exploration"
   ]
  },
  {
   "cell_type": "code",
   "execution_count": null,
   "id": "062af45e",
   "metadata": {},
   "outputs": [],
   "source": []
  },
  {
   "cell_type": "code",
   "execution_count": null,
   "id": "6b7d41c1",
   "metadata": {},
   "outputs": [],
   "source": []
  },
  {
   "cell_type": "markdown",
   "id": "e14df2c5",
   "metadata": {},
   "source": [
    "## Step 4: Pre-processing"
   ]
  },
  {
   "cell_type": "markdown",
   "id": "d6650c30",
   "metadata": {},
   "source": [
    "### Cropping and face centering image data"
   ]
  },
  {
   "cell_type": "code",
   "execution_count": 2,
   "id": "55832e3c",
   "metadata": {},
   "outputs": [],
   "source": [
    "import cv2\n",
    "import sys\n",
    "import os\n",
    "import matplotlib.pyplot as plt\n",
    "from mtcnn.mtcnn import MTCNN"
   ]
  },
  {
   "cell_type": "code",
   "execution_count": 13,
   "id": "71c70e3c",
   "metadata": {},
   "outputs": [],
   "source": [
    "class FaceCropper(object):\n",
    "\n",
    "    def __init__(self):\n",
    "        self.detector = MTCNN()\n",
    "    \n",
    "    def generate(self, image_path,prefix,output_path):\n",
    "        img = cv2.imread(image_path)\n",
    "        if (img is None):\n",
    "            return 0\n",
    "        faces = self.detector.detect_faces(img)\n",
    "        for i, face in enumerate(faces): # iterate through all the faces found\n",
    "            box=face['box']\n",
    "            if box !=[]:\n",
    "                confidence = face['confidence']\n",
    "                if(confidence < 0.9):\n",
    "                    continue\n",
    "                # return all faces found in the image\n",
    "                box[0]= 0 if box[0]<0 else box[0]\n",
    "                box[1]= 0 if box[1]<0 else box[1]\n",
    "                \n",
    "                cropped_img=img[box[1]: box[1]+box[3],box[0]: box[0]+ box[2]]\n",
    "                try:\n",
    "                    cv2.imwrite(output_data_path + prefix, cropped_img)\n",
    "                except Exception as e:\n",
    "                    pass"
   ]
  },
  {
   "cell_type": "code",
   "execution_count": 5,
   "id": "0fc7a135",
   "metadata": {},
   "outputs": [],
   "source": [
    "%%capture\n",
    "detecter = FaceCropper()\n",
    "categories = [\"happy\", \"sad\", \"angry\", \"disgusted\",\"surprised\"]\n",
    "data_folder = \"/data/\"\n",
    "for category in categories:\n",
    "    input_data_path = os.path.abspath('./') + data_folder + category\n",
    "    output_data_path = os.path.abspath('./') + \"/filtered_data\"\n",
    "\n",
    "    if not os.path.exists(output_data_path):\n",
    "        os.mkdir(output_data_path)\n",
    "    output_data_path = output_data_path + \"/\" + category + \"/\"\n",
    "    if not os.path.exists(output_data_path):\n",
    "        os.mkdir(output_data_path)\n",
    "    for filename in os.listdir(input_data_path):\n",
    "        image_path = input_data_path + \"/\" + filename\n",
    "        detecter.generate(image_path,filename,output_data_path)\n",
    "        break"
   ]
  },
  {
   "cell_type": "code",
   "execution_count": null,
   "id": "4b076e4f",
   "metadata": {},
   "outputs": [],
   "source": []
  },
  {
   "cell_type": "code",
   "execution_count": null,
   "id": "943aabed",
   "metadata": {},
   "outputs": [],
   "source": []
  },
  {
   "cell_type": "code",
   "execution_count": null,
   "id": "37b320af",
   "metadata": {},
   "outputs": [],
   "source": []
  },
  {
   "cell_type": "code",
   "execution_count": null,
   "id": "4c4a014b",
   "metadata": {},
   "outputs": [],
   "source": []
  },
  {
   "cell_type": "code",
   "execution_count": null,
   "id": "d95b770f",
   "metadata": {},
   "outputs": [],
   "source": []
  },
  {
   "cell_type": "markdown",
   "id": "b25190bb",
   "metadata": {},
   "source": [
    "## Step 5: Data analysis with deep learning"
   ]
  },
  {
   "cell_type": "code",
   "execution_count": null,
   "id": "20045f81",
   "metadata": {},
   "outputs": [],
   "source": []
  },
  {
   "cell_type": "code",
   "execution_count": null,
   "id": "15f58e8f",
   "metadata": {},
   "outputs": [],
   "source": []
  },
  {
   "cell_type": "code",
   "execution_count": null,
   "id": "4e307fbd",
   "metadata": {},
   "outputs": [],
   "source": []
  },
  {
   "cell_type": "code",
   "execution_count": null,
   "id": "be704b10",
   "metadata": {},
   "outputs": [],
   "source": []
  },
  {
   "cell_type": "markdown",
   "id": "f3e802e7",
   "metadata": {},
   "source": [
    "## Step 6: Numerical results"
   ]
  },
  {
   "cell_type": "code",
   "execution_count": null,
   "id": "bb1c5747",
   "metadata": {},
   "outputs": [],
   "source": []
  },
  {
   "cell_type": "code",
   "execution_count": null,
   "id": "7e121974",
   "metadata": {},
   "outputs": [],
   "source": []
  },
  {
   "cell_type": "code",
   "execution_count": null,
   "id": "6130a6e3",
   "metadata": {},
   "outputs": [],
   "source": []
  },
  {
   "cell_type": "markdown",
   "id": "1111c429",
   "metadata": {},
   "source": [
    "## References"
   ]
  },
  {
   "cell_type": "markdown",
   "id": "5fc1291c",
   "metadata": {},
   "source": [
    "1. https://medium.com/@wwwanandsuresh/web-scraping-images-from-google-9084545808a2\n",
    "2. https://gist.github.com/tilfin/98bbba47fdc4ac10c4069cce5fabd834\n",
    "3. https://github.com/stanford-traffic-sign/stanford-cs230-traffic-sign"
   ]
  },
  {
   "cell_type": "code",
   "execution_count": null,
   "id": "821c8aeb",
   "metadata": {},
   "outputs": [],
   "source": []
  }
 ],
 "metadata": {
  "kernelspec": {
   "display_name": "Python 3",
   "language": "python",
   "name": "python3"
  },
  "language_info": {
   "codemirror_mode": {
    "name": "ipython",
    "version": 3
   },
   "file_extension": ".py",
   "mimetype": "text/x-python",
   "name": "python",
   "nbconvert_exporter": "python",
   "pygments_lexer": "ipython3",
   "version": "3.8.8"
  }
 },
 "nbformat": 4,
 "nbformat_minor": 5
}
